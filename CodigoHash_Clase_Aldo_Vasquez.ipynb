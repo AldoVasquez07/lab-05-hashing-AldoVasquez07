{
  "cells": [
    {
      "cell_type": "markdown",
      "metadata": {
        "id": "T8cf-Dz1IK26"
      },
      "source": [
        "# Tema: Hashing!"
      ]
    },
    {
      "cell_type": "code",
      "execution_count": 7,
      "metadata": {
        "collapsed": true,
        "id": "g2r5SJg6IK27"
      },
      "outputs": [],
      "source": [
        "import matplotlib\n",
        "import numpy as np\n",
        "import matplotlib.pyplot as plt\n",
        "from random import choice\n",
        "%matplotlib inline"
      ]
    },
    {
      "cell_type": "markdown",
      "metadata": {
        "id": "LQapdAcuIK27"
      },
      "source": [
        "Primero implementemos una tabla hash (encadenada):"
      ]
    },
    {
      "cell_type": "code",
      "execution_count": 31,
      "metadata": {
        "collapsed": true,
        "id": "96hcaoStIK28"
      },
      "outputs": [],
      "source": [
        "class HashTable:\n",
        "    def __init__(self,h,n=10):\n",
        "      self.h=h\n",
        "      self.n=n\n",
        "      self.bucket = [[] for i in range(n)]\n",
        "\n",
        "    def insert(self, x):\n",
        "      self.bucket[self.h(x)].append(x)\n",
        "\n",
        "    def delete(self, x):\n",
        "      poss = self.bucket[self.h(x)]\n",
        "      for i in range(len(poss)):\n",
        "        if poss[i] == x:\n",
        "          poss.pop[i]\n",
        "      return None\n",
        "\n",
        "    def find(self, x):\n",
        "      poss = self.bucket[self.h(x)]\n",
        "      for i in range(len(poss)):\n",
        "        if poss[i] == x:\n",
        "          return poss[i]\n",
        "      return None"
      ]
    },
    {
      "cell_type": "markdown",
      "metadata": {
        "id": "kS5vOacGIK2-"
      },
      "source": [
        "## Definamos algunas funciones hash.\n",
        "\n",
        "### implemente una función hash del \"último dígito\":"
      ]
    },
    {
      "cell_type": "code",
      "execution_count": 9,
      "metadata": {
        "collapsed": true,
        "id": "TY8Ymw2IIK2_"
      },
      "outputs": [],
      "source": [
        "def mi_Mod(x,n=10):\n",
        "    return x % n"
      ]
    },
    {
      "cell_type": "code",
      "execution_count": 10,
      "metadata": {
        "id": "vkpTBMlfIK3A",
        "colab": {
          "base_uri": "https://localhost:8080/"
        },
        "outputId": "6c72cdba-c20f-4154-fedc-84b7be797093"
      },
      "outputs": [
        {
          "output_type": "stream",
          "name": "stdout",
          "text": [
            "2\n",
            "5\n"
          ]
        }
      ],
      "source": [
        "print(mi_Mod(52))\n",
        "print(mi_Mod(3235235))"
      ]
    },
    {
      "cell_type": "markdown",
      "metadata": {
        "id": "5J_dwuEvIK3B"
      },
      "source": [
        "\n",
        "\n",
        "\n",
        "\n",
        "### Funciona?"
      ]
    },
    {
      "cell_type": "code",
      "execution_count": 15,
      "metadata": {
        "id": "Lwjaaz9OIK3B",
        "colab": {
          "base_uri": "https://localhost:8080/"
        },
        "outputId": "96310f39-874f-4492-fc8a-eb410e25a4a3"
      },
      "outputs": [
        {
          "output_type": "execute_result",
          "data": {
            "text/plain": [
              "1234567"
            ]
          },
          "metadata": {},
          "execution_count": 15
        }
      ],
      "source": [
        "HT = HashTable(mi_Mod, 10)\n",
        "\n",
        "x = 1234567\n",
        "y = 76554334234\n",
        "HT.insert(x)\n",
        "HT.find(x)\n",
        "\n",
        "## verificar que la tabla hash funciona"
      ]
    },
    {
      "cell_type": "markdown",
      "metadata": {
        "id": "soRMj9c2IK3C"
      },
      "source": [
        "## ¿Qué tal una función hash uniformemente aleatoria?"
      ]
    },
    {
      "cell_type": "code",
      "execution_count": 12,
      "metadata": {
        "collapsed": true,
        "id": "NugQawKlIK3C"
      },
      "outputs": [],
      "source": [
        "def randomFn(x, n=10):\n",
        "    return choice(range(n))"
      ]
    },
    {
      "cell_type": "code",
      "execution_count": 13,
      "metadata": {
        "id": "uw6t0qhvIK3C",
        "colab": {
          "base_uri": "https://localhost:8080/"
        },
        "outputId": "6aae224c-997e-4e30-d76f-8d49b2810296"
      },
      "outputs": [
        {
          "output_type": "stream",
          "name": "stdout",
          "text": [
            "3\n",
            "0\n"
          ]
        }
      ],
      "source": [
        "print(randomFn(52))\n",
        "print(randomFn(3235235))"
      ]
    },
    {
      "cell_type": "markdown",
      "metadata": {
        "id": "uzGrvFuEIK3C"
      },
      "source": [
        "### funciona?"
      ]
    },
    {
      "cell_type": "code",
      "execution_count": 19,
      "metadata": {
        "id": "VsE4ebkDIK3D"
      },
      "outputs": [],
      "source": [
        "HT = HashTable(randomFn, 10)\n",
        "\n",
        "x = 1234567\n",
        "y = 76554334234\n",
        "HT.insert(x)\n",
        "\n"
      ]
    },
    {
      "cell_type": "code",
      "execution_count": null,
      "metadata": {
        "collapsed": true,
        "id": "gGgDbqaUIK3D"
      },
      "outputs": [],
      "source": []
    },
    {
      "cell_type": "markdown",
      "metadata": {
        "id": "2UhQcOIMIK3D"
      },
      "source": [
        "\n",
        "### ¿Qué salió mal?\n",
        ".\n",
        "\n",
        ".\n",
        "\n",
        ".\n",
        "\n",
        ".\n",
        "\n",
        "(Piénsalo)\n",
        "\n",
        ".\n",
        "\n",
        ".\n",
        "\n",
        ".\n",
        "\n",
        ".\n",
        "\n",
        ".\n",
        "\n",
        "(Sigue pensando)\n",
        "\n",
        ".\n",
        "\n",
        ".\n",
        "\n",
        ".\n",
        "\n",
        ".\n",
        "\n",
        ".\n"
      ]
    },
    {
      "cell_type": "code",
      "execution_count": 26,
      "metadata": {
        "id": "d7jckc4pIK3D",
        "colab": {
          "base_uri": "https://localhost:8080/"
        },
        "outputId": "a39cab6a-615e-44cf-a840-761ff691d20d"
      },
      "outputs": [
        {
          "output_type": "stream",
          "name": "stdout",
          "text": [
            "1\n",
            "6\n"
          ]
        }
      ],
      "source": [
        "print(randomFn(52))\n",
        "print(randomFn(3235235))"
      ]
    },
    {
      "cell_type": "code",
      "execution_count": 29,
      "metadata": {
        "id": "_1_dqKGAIK3E",
        "colab": {
          "base_uri": "https://localhost:8080/"
        },
        "outputId": "e54459b7-8e55-44f9-87fe-61271a756036"
      },
      "outputs": [
        {
          "output_type": "stream",
          "name": "stdout",
          "text": [
            "9\n",
            "8\n"
          ]
        }
      ],
      "source": [
        "print(randomFn(52))\n",
        "print(randomFn(3235235))"
      ]
    },
    {
      "cell_type": "markdown",
      "metadata": {
        "id": "Ppayc2puIK3E"
      },
      "source": [
        "### Para que sea una función, ¡necesitamos realizar un seguimiento de todos los valores!"
      ]
    },
    {
      "cell_type": "code",
      "execution_count": 21,
      "metadata": {
        "collapsed": true,
        "id": "AOxwPy0rIK3E"
      },
      "outputs": [],
      "source": [
        "def RandomHashFun(M, n=10):\n",
        "    fnTable = [ None for i in range(M) ]\n",
        "    for x in range(M):\n",
        "        fnTable[x] = choice(range(n))\n",
        "    def randomFn(x):\n",
        "        return fnTable[x]\n",
        "    return randomFn"
      ]
    },
    {
      "cell_type": "markdown",
      "metadata": {
        "id": "UjHEWzkGIK3F"
      },
      "source": [
        "intenten de nuevo..."
      ]
    },
    {
      "cell_type": "code",
      "execution_count": 22,
      "metadata": {
        "collapsed": true,
        "id": "bZnqQ6R_IK3F"
      },
      "outputs": [],
      "source": [
        "randomFn2 = RandomHashFun(1000, 10)"
      ]
    },
    {
      "cell_type": "code",
      "execution_count": null,
      "metadata": {
        "id": "LD7e-TmLIK3F"
      },
      "outputs": [],
      "source": [
        "print(randomFn2(52))\n",
        "print(randomFn2(324))"
      ]
    },
    {
      "cell_type": "code",
      "execution_count": 24,
      "metadata": {
        "id": "9W8tiWRtIK3F",
        "colab": {
          "base_uri": "https://localhost:8080/"
        },
        "outputId": "b9cb7fc5-9381-4116-cf9f-5b4bed391aeb"
      },
      "outputs": [
        {
          "output_type": "stream",
          "name": "stdout",
          "text": [
            "5\n",
            "3\n"
          ]
        }
      ],
      "source": [
        "print(randomFn2(52))\n",
        "print(randomFn2(324))"
      ]
    },
    {
      "cell_type": "code",
      "execution_count": 34,
      "metadata": {
        "id": "1Sf8K_zNIK3G",
        "colab": {
          "base_uri": "https://localhost:8080/"
        },
        "outputId": "9b6d4efc-0734-4d01-99b9-b52701500a20"
      },
      "outputs": [
        {
          "output_type": "execute_result",
          "data": {
            "text/plain": [
              "123"
            ]
          },
          "metadata": {},
          "execution_count": 34
        }
      ],
      "source": [
        "HT = HashTable(randomFn2, 10)\n",
        "\n",
        "x = 123\n",
        "y = 76\n",
        "HT.insert(x)\n",
        "HT.find(x)\n",
        "## verificar que la tabla hash funciona"
      ]
    },
    {
      "cell_type": "markdown",
      "metadata": {
        "id": "2Cpz5FfjIK3G"
      },
      "source": [
        "# **Tarea**:\n",
        "reproducir el código anterior pero ahora en C mediante el siguiente link: [github](https://classroom.github.com/a/KL268Laj )"
      ]
    },
    {
      "cell_type": "code",
      "execution_count": null,
      "metadata": {
        "collapsed": true,
        "id": "4I4JNwfyIK3_"
      },
      "outputs": [],
      "source": []
    }
  ],
  "metadata": {
    "kernelspec": {
      "display_name": "Python 3",
      "language": "python",
      "name": "python3"
    },
    "language_info": {
      "codemirror_mode": {
        "name": "ipython",
        "version": 3
      },
      "file_extension": ".py",
      "mimetype": "text/x-python",
      "name": "python",
      "nbconvert_exporter": "python",
      "pygments_lexer": "ipython3",
      "version": "3.6.1"
    },
    "colab": {
      "provenance": [],
      "toc_visible": true
    }
  },
  "nbformat": 4,
  "nbformat_minor": 0
}